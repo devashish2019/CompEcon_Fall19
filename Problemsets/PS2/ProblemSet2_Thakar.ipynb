{
 "cells": [
  {
   "cell_type": "markdown",
   "metadata": {},
   "source": [
    "## Standard Library Questions\n",
    "** Problem 1 **: Function that accepts  a list of numbers as input and returns a new list with the minimum, maximum and average of the original list (in that order). Remember to use floating point division to calculate the average. Can you implement this function in a single line?"
   ]
  },
  {
   "cell_type": "code",
   "execution_count": 6,
   "metadata": {
    "collapsed": true
   },
   "outputs": [],
   "source": [
    "# Part1: Function that returns a list of min, max and average\n",
    "def function_p1a (list_num):\n",
    "    \"\"\"\n",
    "    Function that takes in a list of numbers (list_num)\n",
    "    \"\"\"\n",
    "    min_list=min(list_num)\n",
    "    max_list=max(list_num)\n",
    "    avg_list=round(sum(list_num)/len(list_num),2)\n",
    "    list_out=[min_list,max_list,avg_list]\n",
    "    return(\"The minimum, maximum and average of the list are:\",list_out)"
   ]
  },
  {
   "cell_type": "code",
   "execution_count": 7,
   "metadata": {},
   "outputs": [
    {
     "data": {
      "text/plain": [
       "('The minimum, maximum and average of the list are:', [1, 2, 1.67])"
      ]
     },
     "execution_count": 7,
     "metadata": {},
     "output_type": "execute_result"
    }
   ],
   "source": [
    "# Testing the above function on a sample list l1\n",
    "l1=[1,2,2]\n",
    "function_p1a(l1)"
   ]
  },
  {
   "cell_type": "code",
   "execution_count": 9,
   "metadata": {},
   "outputs": [],
   "source": [
    "# Part 2: Same function implemented in a single line\n",
    "def function_p1b(list_num):\n",
    "    \"\"\"\n",
    "    Function that takes in a list of numbers (list_num) and uses a single line of code\n",
    "    \"\"\"\n",
    "    return(\"The minimum, maximum and average of the list are:\",[min(list_num),max(list_num),round(sum(list_num)/len(list_num),2)])"
   ]
  },
  {
   "cell_type": "code",
   "execution_count": 10,
   "metadata": {},
   "outputs": [
    {
     "data": {
      "text/plain": [
       "('The minimum, maximum and average of the list are:', [1, 2, 1.67])"
      ]
     },
     "execution_count": 10,
     "metadata": {},
     "output_type": "execute_result"
    }
   ],
   "source": [
    "# Testing the above function on the same sample list\n",
    "function_p1b(l1)"
   ]
  },
  {
   "cell_type": "markdown",
   "metadata": {},
   "source": [
    "** Problem2 **: Determine which objects are mutable using the example given in the problem set"
   ]
  },
  {
   "cell_type": "code",
   "execution_count": 11,
   "metadata": {},
   "outputs": [
    {
     "data": {
      "text/plain": [
       "False"
      ]
     },
     "execution_count": 11,
     "metadata": {},
     "output_type": "execute_result"
    }
   ],
   "source": [
    "# Checking if integers are mutable\n",
    "num_1=4\n",
    "num_2=num_1\n",
    "num_2+=1\n",
    "num_1==num_2"
   ]
  },
  {
   "cell_type": "code",
   "execution_count": 12,
   "metadata": {},
   "outputs": [
    {
     "data": {
      "text/plain": [
       "False"
      ]
     },
     "execution_count": 12,
     "metadata": {},
     "output_type": "execute_result"
    }
   ],
   "source": [
    "# Checking if strings are mutable\n",
    "string_1='Devashish'\n",
    "string_2=string_1\n",
    "string_2+=' Thakar'\n",
    "string_1==string_2"
   ]
  },
  {
   "cell_type": "code",
   "execution_count": 13,
   "metadata": {},
   "outputs": [
    {
     "data": {
      "text/plain": [
       "True"
      ]
     },
     "execution_count": 13,
     "metadata": {},
     "output_type": "execute_result"
    }
   ],
   "source": [
    "# Checking if lists are mutable\n",
    "list_1=['a','b','c']\n",
    "list_2=list_1\n",
    "list_2.append('d')\n",
    "list_1==list_2"
   ]
  },
  {
   "cell_type": "code",
   "execution_count": 14,
   "metadata": {},
   "outputs": [
    {
     "data": {
      "text/plain": [
       "False"
      ]
     },
     "execution_count": 14,
     "metadata": {},
     "output_type": "execute_result"
    }
   ],
   "source": [
    "# Checking if tuples are mutable\n",
    "tuple_1=(1,2,3,'a','b')\n",
    "tuple_2=tuple_1\n",
    "tuple_2+=('c',)\n",
    "tuple_1==tuple_2"
   ]
  },
  {
   "cell_type": "code",
   "execution_count": 9,
   "metadata": {},
   "outputs": [
    {
     "data": {
      "text/plain": [
       "True"
      ]
     },
     "execution_count": 9,
     "metadata": {},
     "output_type": "execute_result"
    }
   ],
   "source": [
    "# Checking if a dictionary is mutable\n",
    "dict_1={'First letter':'a','Second letter':'b','Third letter':'c'}\n",
    "dict_2=dict_1\n",
    "dict_2['Fourth letter']='d'\n",
    "dict_1==dict_2"
   ]
  },
  {
   "cell_type": "code",
   "execution_count": 19,
   "metadata": {},
   "outputs": [
    {
     "data": {
      "text/plain": [
       "True"
      ]
     },
     "execution_count": 19,
     "metadata": {},
     "output_type": "execute_result"
    }
   ],
   "source": [
    "# Checking if a set is mutable\n",
    "set_1={1,2,3,4,5}\n",
    "set_2=set_1\n",
    "set_2|={6,7,8,9,10}\n",
    "set_1==set_2"
   ]
  },
  {
   "cell_type": "markdown",
   "metadata": {},
   "source": [
    "**Based on the above outputs, it can be concluded that * numbers, strings &tuples * are immutable, while * lists, dictionaries & sets * are mutable **"
   ]
  },
  {
   "cell_type": "markdown",
   "metadata": {},
   "source": [
    "** Problem 3 **: Creating a module with sum function, product function and square root function to create another function to return the length of hypoteneuse of a right angled triangle"
   ]
  },
  {
   "cell_type": "markdown",
   "metadata": {
    "collapsed": true
   },
   "source": [
    "The module I created is called calculator and have stored it as calculator.py, which I am importing below. It has the sum_calc function to calculate the sum, product_calc function to find the product, and sqrt_calc to find the square root"
   ]
  },
  {
   "cell_type": "code",
   "execution_count": 20,
   "metadata": {},
   "outputs": [
    {
     "data": {
      "text/plain": [
       "\"\\nThe 'calculator' module consists of three functions that I have built.\\nproduct_calc: calculates the product of two numbers\\nsum_calc: calcuates the sum of two numbers\\nsqrt_calc: calculates the square root of a number\\n\\nAll three functions are used below to calculate the length of the hypotenuse\\n\""
      ]
     },
     "execution_count": 20,
     "metadata": {},
     "output_type": "execute_result"
    }
   ],
   "source": [
    "import calculator as calc\n",
    "'''\n",
    "The 'calculator' module consists of three functions that I have built.\n",
    "product_calc: calculates the product of two numbers\n",
    "sum_calc: calcuates the sum of two numbers\n",
    "sqrt_calc: calculates the square root of a number\n",
    "\n",
    "All three functions are used below to calculate the length of the hypotenuse\n",
    "'''"
   ]
  },
  {
   "cell_type": "code",
   "execution_count": 21,
   "metadata": {
    "collapsed": true
   },
   "outputs": [],
   "source": [
    "# Defining a new function to use the above functions to calculate the length of the hypotenuse of a right triangle\n",
    "def hypotenuse_len(a,b): # Consider a,b to be the length of the other two sides of the hypotenuse\n",
    "    '''\n",
    "    a and b are the lenth of the shorter sides of the right angled triangle\n",
    "    \n",
    "    '''\n",
    "    a_squared=calc.product_calc(a,a) # calling in the product_calc function to square a\n",
    "    b_squared=calc.product_calc(b,b) # calling in the product_calc function to square b\n",
    "    hyp=calc.sqrt_calc(calc.sum_calc(a_squared,b_squared))  # calling in the sum_calc and sqrt_calc to sum a^2, b^2 and find the square root\n",
    "    return(hyp)\n",
    "    "
   ]
  },
  {
   "cell_type": "code",
   "execution_count": 24,
   "metadata": {},
   "outputs": [
    {
     "data": {
      "text/plain": [
       "5.0"
      ]
     },
     "execution_count": 24,
     "metadata": {},
     "output_type": "execute_result"
    }
   ],
   "source": [
    "hypotenuse_len(3,4)"
   ]
  },
  {
   "cell_type": "markdown",
   "metadata": {
    "collapsed": true
   },
   "source": [
    "# NumPy questions\n"
   ]
  },
  {
   "cell_type": "markdown",
   "metadata": {},
   "source": [
    "** Problem1 **: Write a function that defines A and B as NumPy arrays. Return product AB."
   ]
  },
  {
   "cell_type": "code",
   "execution_count": 25,
   "metadata": {
    "collapsed": true
   },
   "outputs": [],
   "source": [
    "import numpy as np\n",
    "\n",
    "def matrix_multiply(list1,list2):\n",
    "    '''\n",
    "    list1 and list2 are 'list of lists' that define matrix A and B\n",
    "    \n",
    "    The dot product of the matrices A and B is C\n",
    "    '''\n",
    "    import numpy as np\n",
    "    \n",
    "    A=np.array(list1)\n",
    "    B=np.array(list2)\n",
    "    C=np.dot(A,B)\n",
    "    return C\n",
    "    \n",
    "    \n",
    "    "
   ]
  },
  {
   "cell_type": "code",
   "execution_count": 26,
   "metadata": {},
   "outputs": [
    {
     "data": {
      "text/plain": [
       "array([[ 37,  14, -32, -10],\n",
       "       [-54,  -7,  58,  65]])"
      ]
     },
     "execution_count": 26,
     "metadata": {},
     "output_type": "execute_result"
    }
   ],
   "source": [
    "x=[[3, -1, 4], [1, 5, -9]]\n",
    "y=[[2, 6, -5, 3], [5, -8, 9, 7], [9, -3, -2, -3]]\n",
    "matrix_multiply(x,y)"
   ]
  },
  {
   "cell_type": "markdown",
   "metadata": {},
   "source": [
    "** Problem 2**: Function to do multiple operations on a given matrix"
   ]
  },
  {
   "cell_type": "code",
   "execution_count": 27,
   "metadata": {
    "collapsed": true
   },
   "outputs": [],
   "source": [
    "import numpy as np\n",
    "\n",
    "def CH_Theorem(list3): # Naming this function afer Cayley-Hamilton(CH) Theorem\n",
    "    '''\n",
    "    A is the NumPy array created using the matrix defined from the input list\n",
    "    '''\n",
    "    A=np.array(list3)\n",
    "    \n",
    "    A_cube=np.dot(A,np.dot(A,A)) # Cube of A\n",
    "    A_square=np.dot(A,A) # Square of A\n",
    "    Return_matrix= -1*A_cube + 9*A_square - 15*A\n",
    "    \n",
    "    return Return_matrix"
   ]
  },
  {
   "cell_type": "code",
   "execution_count": 28,
   "metadata": {},
   "outputs": [
    {
     "data": {
      "text/plain": [
       "array([[0, 0, 0],\n",
       "       [0, 0, 0],\n",
       "       [0, 0, 0]])"
      ]
     },
     "execution_count": 28,
     "metadata": {},
     "output_type": "execute_result"
    }
   ],
   "source": [
    " CH_Theorem([[3,1,4],[1,5,9],[-5,3,1]]) # Calling the function defined above"
   ]
  },
  {
   "cell_type": "markdown",
   "metadata": {},
   "source": [
    "** Problem 5: ** Use of NumPy stacking functions to create a block matrix"
   ]
  },
  {
   "cell_type": "code",
   "execution_count": 29,
   "metadata": {
    "collapsed": true
   },
   "outputs": [],
   "source": [
    "import numpy as np\n",
    "def matrix_stacking(list1,list2,list3):\n",
    "    \n",
    "    '''\n",
    "    Defining the basic matrices A, B and C\n",
    "    '''\n",
    "    A=np.array(list1)\n",
    "    B=np.array(list2)\n",
    "    C=np.array(list3)\n",
    "    \n",
    "    '''\n",
    "    Defining the matrices required to do stacking operation \n",
    "    '''\n",
    "    A_T=A.T # Transpose of A\n",
    "    zero_11=np.zeros((A_T.shape[0],A.shape[1])) # The zero matrix at position 1x1\n",
    "    I_13=np.eye(A_T.shape[0]) # The identity matrix at position 1x3\n",
    "    zero_22=np.zeros((A.shape[0],A_T.shape[1])) # The zero matrix at position 2x2\n",
    "    zero_23=np.zeros((A.shape[0],I_13.shape[1])) # The zero matrix at position 2x3\n",
    "    zero_32=np.zeros((B.shape[0],A_T.shape[1]))# The zero matrix at position 3x2\n",
    "    \n",
    "    \n",
    "    '''\n",
    "    Creating the rows of the matrix using horizontal stacking\n",
    "    '''\n",
    "    Stack_1= np.hstack((zero_11,A_T,I_13)) # First row of the stacked matrix\n",
    "    Stack_2=np.hstack((A,zero_22,zero_23)) # Second row of the stacked matrix\n",
    "    Stack_3=np.hstack((B,zero_32,C)) # Third row of the stacked matrix\n",
    "    \n",
    "    '''\n",
    "    Vertically stacking these rows to create the final stacked matrix\n",
    "    '''\n",
    "    Stack=np.vstack((Stack_1,Stack_2,Stack_3))\n",
    "    \n",
    "    return Stack\n"
   ]
  },
  {
   "cell_type": "code",
   "execution_count": 30,
   "metadata": {},
   "outputs": [
    {
     "data": {
      "text/plain": [
       "array([[ 0.,  0.,  0.,  0.,  1.,  1.,  0.,  0.],\n",
       "       [ 0.,  0.,  0.,  2.,  3.,  0.,  1.,  0.],\n",
       "       [ 0.,  0.,  0.,  4.,  5.,  0.,  0.,  1.],\n",
       "       [ 0.,  2.,  4.,  0.,  0.,  0.,  0.,  0.],\n",
       "       [ 1.,  3.,  5.,  0.,  0.,  0.,  0.,  0.],\n",
       "       [ 3.,  0.,  0.,  0.,  0., -2.,  0.,  0.],\n",
       "       [ 3.,  3.,  0.,  0.,  0.,  0., -2.,  0.],\n",
       "       [ 3.,  3.,  3.,  0.,  0.,  0.,  0., -2.]])"
      ]
     },
     "execution_count": 30,
     "metadata": {},
     "output_type": "execute_result"
    }
   ],
   "source": [
    "l1=[[0,2,4],[1,3,5]]\n",
    "l2=[[3,0,0],[3,3,0],[3,3,3]]\n",
    "l3=[[-2,0,0],[0,-2,0],[0,0,-2]]\n",
    "\n",
    "matrix_stacking(l1,l2,l3)"
   ]
  },
  {
   "cell_type": "markdown",
   "metadata": {},
   "source": [
    "# Object Oriented Programming"
   ]
  },
  {
   "cell_type": "markdown",
   "metadata": {},
   "source": [
    "** Problem 1**: Expanding the BackPack class as per the question specifications"
   ]
  },
  {
   "cell_type": "code",
   "execution_count": 40,
   "metadata": {
    "collapsed": true
   },
   "outputs": [],
   "source": [
    "class Backpack:\n",
    "    \"\"\" A BackPack object class. Has a name,list of contents,color and maximum size.\n",
    "    \n",
    "    Attributes:\n",
    "    name(str): the name of the backpack's owner\n",
    "    contents(list): the contents of the backpack.\n",
    "    color(str): the color of the backpack\n",
    "    max_size(int): the maximum number of items that can be placed in the backpack\n",
    "    \n",
    "    Put(item): Method to add 'item' to the backpack\n",
    "    If the number of 'item' in the backpack is greater than the 'max_size', \n",
    "    error message is displayed and no more items added. Otherwise the new 'item' is added to the backpack\n",
    "    \n",
    "    Take(item): Method to remove 'item' from the backpack\n",
    "    \n",
    "    dump(): Method to empty the backpack\n",
    "    If this method is invoked then all the 'item' from the backpack are removed\n",
    "    \"\"\"\n",
    "    \n",
    "    \n",
    "    def __init__(self, name, color,max_size=5): # This function is the constructor.\n",
    "        \"\"\" Set the name and initialize te initial list of contents.\n",
    "        \n",
    "        Parameters:\n",
    "        name(str): the name of the backpack's owner.\n",
    "        \"\"\"\n",
    "        self.name=name                 # Initialize attributes\n",
    "        self.color=color\n",
    "        self.max_size=max_size\n",
    "        self.contents=[]\n",
    "        \n",
    "    def put(self,item):\n",
    "        '''\n",
    "        Method to check if the number of items in the backpack is more than or equal to max_size. If yes, send out\n",
    "        error message, if no, add the item to the backpack\n",
    "        '''\n",
    "        if len(self.contents)>self.max_size-1:\n",
    "            \n",
    "            print(\"Cannot accomodate all contents.Only the first\", self.max_size ,\" can be considered. Sorry!\")\n",
    "            \n",
    "        else:\n",
    "            self.contents.append(item)  # use self.contents, not just contents\n",
    "        \n",
    "    def take(self,item):\n",
    "        \n",
    "        \"\"\" Method to remove an item from the backpack's list of contents.\"\"\"\n",
    "        self.contents.remove(item)\n",
    "        \n",
    "    def dump(self):\n",
    "        \"\"\"\n",
    "        Removes all the contents of the backpack and make it empty\n",
    "        \"\"\"\n",
    "        self.contents=[]"
   ]
  },
  {
   "cell_type": "code",
   "execution_count": 41,
   "metadata": {
    "collapsed": true,
    "scrolled": true
   },
   "outputs": [],
   "source": [
    "# Test function to check the various methods of the Backpack class\n",
    "def test_backpack():\n",
    "    testpack=Backpack(\"Barry\",\"black\")\n",
    "    \n",
    "    if testpack.name!=\"Barry\":                            # Check if the name of the backpack is correct\n",
    "        print(\"Backpack.name assignedincorrectly\")\n",
    "        \n",
    "    for item in [\"pencil\",\"pen\",\"paper\",'torch','insects']:   # List of items to be put in the backpack\n",
    "        testpack.put(item)\n",
    "    print(\"These are the original contents you want to put:\", testpack.contents)\n",
    "    \n",
    "    for item in testpack.contents:           # Taking out the item if it is \"food\"\n",
    "        if item==\"food\":\n",
    "            testpack.take(\"food\")\n",
    "            print(\"Sorry, food cannot be included. The remaining contents:\",testpack.contents)\n",
    "            \n",
    "    for item in testpack.contents:          # Empytying the contents of the backpack if there are \"insects\"!\n",
    "        if item=='insects':\n",
    "            testpack.dump()\n",
    "            print(\"Cannot have insects in the backpack! Have to empty all contents\")\n",
    "    print(\"Final Contents:\",testpack.contents)"
   ]
  },
  {
   "cell_type": "code",
   "execution_count": 42,
   "metadata": {},
   "outputs": [
    {
     "name": "stdout",
     "output_type": "stream",
     "text": [
      "These are the original contents you want to put: ['pencil', 'pen', 'paper', 'torch', 'insects']\n",
      "Cannot have insects in the backpack! Have to empty all contents\n",
      "Final Contents: []\n"
     ]
    }
   ],
   "source": [
    "test_backpack()"
   ]
  },
  {
   "cell_type": "markdown",
   "metadata": {
    "collapsed": true
   },
   "source": [
    "** Problem 2 **: Creating a subclass that inherits the Backpack class"
   ]
  },
  {
   "cell_type": "code",
   "execution_count": 56,
   "metadata": {
    "collapsed": true
   },
   "outputs": [],
   "source": [
    "# Inherit from the Backpack class created above.\n",
    "class Jetpack(Backpack):\n",
    "    \"\"\" \n",
    "    A Jetpack object class. Inherits from the Backpack class.\n",
    "    A Jetsack is smaller than a backpack that can also stores fuel\n",
    "    \n",
    "    Attributes:\n",
    "        name(str): the name of the jetpack's owner\n",
    "        color(str): the color of the jetpack\n",
    "        max_size(int): the maximum number of items that can fit inside\n",
    "        contents: the contents of the jetpack\n",
    "        fuel= the amount of fuel in the jetpack\n",
    "    \"\"\"\n",
    "    \n",
    "    def __init__(self, name, color,max_size=2,fuel=10):\n",
    "        \n",
    "        \"\"\"\n",
    "        Use the Backpack constructor to initialize the name, color, and max_size attributes.\n",
    "        A jetsack holds only upto 2 items\n",
    "        \n",
    "        Parameters: \n",
    "           name(str): the name of the jetpack's owner\n",
    "           color(str): the color of the jetpack\n",
    "           max_size(int): the maximum number of items that can fit inside \n",
    "        \"\"\"\n",
    "        \n",
    "        Backpack.__init__(self,name,color,max_size)\n",
    "        self.fuel=fuel                        # Set fuel as an attribute\n",
    "        \n",
    "    def fly(self,amt_burnt): # Define a new method fly() just for jetsack,which takes in the amt_burnt (as the amount of fuel burnt)\n",
    "        \"\"\" \n",
    "        If the amt_burnt is less than the fuel available, then decrement the fuel burnt by that amount\n",
    "        Else if the user tries to burn more fuel than available, then print error message\n",
    "        \"\"\"\n",
    "        if amt_burnt<self.fuel:\n",
    "            self.fuel=self.fuel-amt_burnt\n",
    "            print(\"Fuel left after burning the amount you gave is:\",self.fuel)\n",
    "        else:\n",
    "            print(\"Not enought fuel to burn!\")\n",
    "    \n",
    "    def dump(self): # Override the dump method to empty both the contents and fuel in the jetsack\n",
    "        self.contents=[]\n",
    "        self.fuel=0\n",
    "    "
   ]
  },
  {
   "cell_type": "code",
   "execution_count": 57,
   "metadata": {},
   "outputs": [],
   "source": [
    "my_jetpack=Jetpack(\"Thakar\",\"red\")"
   ]
  },
  {
   "cell_type": "code",
   "execution_count": 58,
   "metadata": {},
   "outputs": [
    {
     "name": "stdout",
     "output_type": "stream",
     "text": [
      "True False\n"
     ]
    },
    {
     "data": {
      "text/plain": [
       "True"
      ]
     },
     "execution_count": 58,
     "metadata": {},
     "output_type": "execute_result"
    }
   ],
   "source": [
    "# A jetpack is a backpack, but a backpack is not a jetpack\n",
    "print(issubclass(Jetpack,Backpack),issubclass(Backpack,Jetpack))\n",
    "isinstance(my_jetpack,Backpack) and isinstance(my_jetpack,Jetpack)"
   ]
  },
  {
   "cell_type": "code",
   "execution_count": 59,
   "metadata": {
    "collapsed": true
   },
   "outputs": [],
   "source": [
    "# Check if the jetpack can hold the items that I pass through this function\n",
    "def test_jetpack():\n",
    "    jetpack=Jetpack(\"Devashish\",\"blue\")\n",
    "    for item in ['pen','pencil','eraser']:\n",
    "        jetpack.put(item)\n",
    "        print(jetpack.contents)"
   ]
  },
  {
   "cell_type": "code",
   "execution_count": 60,
   "metadata": {},
   "outputs": [
    {
     "name": "stdout",
     "output_type": "stream",
     "text": [
      "Cannot accomodate all contents.Only the first 2  can be considered. Sorry!\n"
     ]
    },
    {
     "data": {
      "text/plain": [
       "['pen', 'pencil']"
      ]
     },
     "execution_count": 60,
     "metadata": {},
     "output_type": "execute_result"
    }
   ],
   "source": [
    "# Putting it item by item untill I get a stop message and then checking the contenst\n",
    "test_jetpack1=Jetpack(\"Devashish\",\"maroon\")\n",
    "test_jetpack1.put(\"pen\")\n",
    "test_jetpack1.put(\"pencil\")\n",
    "test_jetpack1.put(\"eraser\")\n",
    "test_jetpack1.contents"
   ]
  },
  {
   "cell_type": "code",
   "execution_count": 61,
   "metadata": {},
   "outputs": [
    {
     "name": "stdout",
     "output_type": "stream",
     "text": [
      "Fuel left after burning the amount you gave is: 8\n"
     ]
    }
   ],
   "source": [
    "# Chekcing if the fuel burning method works\n",
    "test_jetpack1.fly(2)  # I start with burning 10 gallons and see how many remain"
   ]
  },
  {
   "cell_type": "code",
   "execution_count": 62,
   "metadata": {},
   "outputs": [
    {
     "name": "stdout",
     "output_type": "stream",
     "text": [
      "Not enought fuel to burn!\n"
     ]
    }
   ],
   "source": [
    "# Checking if it allows me to burn the remaining 8 gallons\n",
    "test_jetpack1.fly(8)"
   ]
  },
  {
   "cell_type": "code",
   "execution_count": 63,
   "metadata": {},
   "outputs": [
    {
     "name": "stdout",
     "output_type": "stream",
     "text": [
      "The following items were present before dumping: ['pen', 'pencil']\n",
      "The following amount of fuel was present before dumping: 8\n"
     ]
    }
   ],
   "source": [
    "# Checking the dump method. Before dumping we have the following items and fuel:\n",
    "print(\"The following items were present before dumping:\",test_jetpack1.contents)\n",
    "print(\"The following amount of fuel was present before dumping:\",test_jetpack1.fuel)"
   ]
  },
  {
   "cell_type": "code",
   "execution_count": 64,
   "metadata": {},
   "outputs": [
    {
     "name": "stdout",
     "output_type": "stream",
     "text": [
      "The following items present after dumping: []\n",
      "The following amount of fuel is present after dumping: 0\n"
     ]
    }
   ],
   "source": [
    "# After calling in the dump method, the following is the list of contents and amount of fuel:\n",
    "test_jetpack1.dump()\n",
    "print(\"The following items present after dumping:\",test_jetpack1.contents)\n",
    "print(\"The following amount of fuel is present after dumping:\",test_jetpack1.fuel)"
   ]
  },
  {
   "cell_type": "code",
   "execution_count": null,
   "metadata": {
    "collapsed": true
   },
   "outputs": [],
   "source": []
  }
 ],
 "metadata": {
  "kernelspec": {
   "display_name": "Python 3",
   "language": "python",
   "name": "python3"
  },
  "language_info": {
   "codemirror_mode": {
    "name": "ipython",
    "version": 3
   },
   "file_extension": ".py",
   "mimetype": "text/x-python",
   "name": "python",
   "nbconvert_exporter": "python",
   "pygments_lexer": "ipython3",
   "version": "3.6.0"
  }
 },
 "nbformat": 4,
 "nbformat_minor": 2
}
