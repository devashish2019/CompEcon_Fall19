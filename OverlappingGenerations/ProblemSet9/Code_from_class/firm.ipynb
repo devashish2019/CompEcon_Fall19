{
 "cells": [
  {
   "cell_type": "code",
   "execution_count": null,
   "metadata": {},
   "outputs": [],
   "source": [
    "# firm functions\n",
    "\n",
    "def get_r(L, K, alpha, A, delta):\n",
    "    '''\n",
    "    The interest rate implied by the firm FOC for the chouce of capital\n",
    "    '''\n",
    "    \n",
    "    r = alpha * A * (L/K) ** (1 - alpha) - delta\n",
    "    \n",
    "    return (r)\n",
    "\n",
    "def get_w(r, alpha, A, delta):\n",
    "    '''\n",
    "    The wage rate as a function of r\n",
    "    '''\n",
    "    \n",
    "    w = ((1 - alpha) * A * ((r + delta) / (alpha * A)) ** (alpha / (alpha -1)))\n",
    "    \n",
    "    return w"
   ]
  }
 ],
 "metadata": {
  "kernelspec": {
   "display_name": "Python 3",
   "language": "python",
   "name": "python3"
  },
  "language_info": {
   "codemirror_mode": {
    "name": "ipython",
    "version": 3
   },
   "file_extension": ".py",
   "mimetype": "text/x-python",
   "name": "python",
   "nbconvert_exporter": "python",
   "pygments_lexer": "ipython3",
   "version": "3.7.3"
  }
 },
 "nbformat": 4,
 "nbformat_minor": 2
}
