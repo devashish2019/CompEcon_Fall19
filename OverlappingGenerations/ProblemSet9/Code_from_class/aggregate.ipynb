{
 "cells": [
  {
   "cell_type": "code",
   "execution_count": null,
   "metadata": {},
   "outputs": [],
   "source": [
    "def get_L():\n",
    "    '''\n",
    "    Find aggregate labor supply\n",
    "    '''\n",
    "    L=n.sum()\n",
    "    \n",
    "    return (L)\n",
    "\n",
    "def get_K(b_sp1):\n",
    "    '''\n",
    "    Find aggregate capital supply\n",
    "    '''\n",
    "    K=b_sp1.sum()\n",
    "    \n",
    "    return (K)"
   ]
  }
 ],
 "metadata": {
  "kernelspec": {
   "display_name": "Python 3",
   "language": "python",
   "name": "python3"
  },
  "language_info": {
   "codemirror_mode": {
    "name": "ipython",
    "version": 3
   },
   "file_extension": ".py",
   "mimetype": "text/x-python",
   "name": "python",
   "nbconvert_exporter": "python",
   "pygments_lexer": "ipython3",
   "version": "3.7.3"
  }
 },
 "nbformat": 4,
 "nbformat_minor": 2
}
