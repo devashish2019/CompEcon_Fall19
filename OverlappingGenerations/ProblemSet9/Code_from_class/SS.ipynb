{
 "cells": [
  {
   "cell_type": "code",
   "execution_count": null,
   "metadata": {},
   "outputs": [],
   "source": [
    "import firm\n",
    "import households as hh\n",
    "import aggregates as agg\n",
    "from scipy import optimize as opt\n",
    "\n",
    "def solve_ss(r_init):\n",
    "    '''\n",
    "    Solves for the steady state of the OG model\n",
    "    '''\n",
    "    beta, sigma, alpha, A, delta, xi = params\n",
    "    ss_dist = 7.0\n",
    "    ss_tol = 1e-8\n",
    "    ss_ier = 0\n",
    "    ss_max_iter = 300\n",
    "    r = r_init\n",
    "    while (ss_dist > ss_tol) & (ss_iter < ss_max_iter):\n",
    "        # get w\n",
    "        w= firm.get_w(r_init, alpha, A, delta)\n",
    "        # solve HH problem\n",
    "        foc_args=(beta, sigma, r, w, n)\n",
    "        b_sp1_guess = [0.05, 0.05]\n",
    "        result=opt.root(hh.FOCs, args=foc_args)\n",
    "        b_sp1=result.x\n",
    "        # use market clearing\n",
    "        L =  agg.get_L(n)\n",
    "        K = agg.get_K(b_sp1)\n",
    "        #find implied r\n",
    "        r_prime = firm.get_r(L, K, alpha, A, delta)\n",
    "        # check distance\n",
    "        ss_dist = np.absolute(r - r_prime)\n",
    "        print(\"Iteration = \",ss_iter, ', Distance = ',ss_dist, ',r = ',r)\n",
    "        # update r\n",
    "        r = xi * r_prime + (1 - xi) * r_prime\n",
    "        # update iteration counter\n",
    "        ss_iter+=1\n",
    "        \n",
    "        ss_dist = np.absolute(r - r_prime)"
   ]
  }
 ],
 "metadata": {
  "kernelspec": {
   "display_name": "Python 3",
   "language": "python",
   "name": "python3"
  },
  "language_info": {
   "codemirror_mode": {
    "name": "ipython",
    "version": 3
   },
   "file_extension": ".py",
   "mimetype": "text/x-python",
   "name": "python",
   "nbconvert_exporter": "python",
   "pygments_lexer": "ipython3",
   "version": "3.7.3"
  }
 },
 "nbformat": 4,
 "nbformat_minor": 2
}
