{
 "cells": [
  {
   "cell_type": "code",
   "execution_count": null,
   "metadata": {},
   "outputs": [],
   "source": [
    "# household functions\n",
    "\n",
    "def FOCs(b_sp1,*args):\n",
    "    '''\n",
    "    Use the HH FOC to solve for optimal savings, b2 and b3\n",
    "    \n",
    "    u'(c1) = beta * (1+r) * u'(c2)-->b2\n",
    "    u'(c2) = beta * (1+r) * u'(c3)-->b3\n",
    "\n",
    "    '''\n",
    "    \n",
    "    beta, sigma, r, w, n=args\n",
    "    b_s=np.append([0],b_sp1)\n",
    "    c1=get_c(r, w, n[0], b_s[0], b_sp1[0])\n",
    "    c2=get_c(r, w, n[1], b_s[1], b_sp1[1])\n",
    "    c3=get_c(r, w, n[2], b_s[2], 0)\n",
    "    mu_c1=u_prime(c1, sigma)\n",
    "    mu_c2=u_prime(c2,sigma)\n",
    "    mu_c3=u_prime(c3,sigma)\n",
    "    error1=mu_c1 - beta * (1+r) * mu_c2\n",
    "    error2=mu_c2 - beta * (1+r) * mu_c3\n",
    "    foc_errors=[error1,error2]\n",
    "    \n",
    "    return (foc_errors)\n",
    "\n",
    "def get_c(r, w, n, b_s, b_sp1):\n",
    "    '''\n",
    "    Use the budget constraint to solve for consumption\n",
    "    '''\n",
    "    c=w * n +  (1+r) * b_s - b_sp1\n",
    "\n",
    "def u_prime(c,sigma):\n",
    "    '''\n",
    "    Marginal utility of consumption\n",
    "    '''\n",
    "    \n",
    "    mu_c=\n",
    "    "
   ]
  }
 ],
 "metadata": {
  "kernelspec": {
   "display_name": "Python 3",
   "language": "python",
   "name": "python3"
  },
  "language_info": {
   "codemirror_mode": {
    "name": "ipython",
    "version": 3
   },
   "file_extension": ".py",
   "mimetype": "text/x-python",
   "name": "python",
   "nbconvert_exporter": "python",
   "pygments_lexer": "ipython3",
   "version": "3.7.3"
  }
 },
 "nbformat": 4,
 "nbformat_minor": 2
}
