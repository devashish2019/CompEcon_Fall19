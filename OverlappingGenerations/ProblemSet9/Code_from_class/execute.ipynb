{
 "cells": [
  {
   "cell_type": "code",
   "execution_count": null,
   "metadata": {},
   "outputs": [],
   "source": [
    "# Import packages\n",
    "import numpy as np\n",
    "import pandas as pd\n",
    "\n",
    "\n",
    "# Set up the parameters\n",
    "sigma=1.5 # CRRA\n",
    "beta=0.8 # discount rate\n",
    "alpha=0.3 # cappital share of output\n",
    "delta=0.1 # rate of depreciation\n",
    "A=0.1\n",
    "\n",
    "# exogeneous labor supply\n",
    "n=np.array([1.0,1.0,0.2])\n",
    "\n",
    "# Parameters for the convergence of the GE loop\n",
    "xi=0.1\n",
    "\n",
    "# SOlve the SS\n",
    "ss_params = (beta, sigma, n, alpha, delta, xi)\n",
    "r_init = 1 / beta"
   ]
  }
 ],
 "metadata": {
  "kernelspec": {
   "display_name": "Python 3",
   "language": "python",
   "name": "python3"
  },
  "language_info": {
   "codemirror_mode": {
    "name": "ipython",
    "version": 3
   },
   "file_extension": ".py",
   "mimetype": "text/x-python",
   "name": "python",
   "nbconvert_exporter": "python",
   "pygments_lexer": "ipython3",
   "version": "3.7.3"
  }
 },
 "nbformat": 4,
 "nbformat_minor": 2
}
